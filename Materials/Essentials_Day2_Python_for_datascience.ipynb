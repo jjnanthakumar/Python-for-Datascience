{
  "nbformat": 4,
  "nbformat_minor": 0,
  "metadata": {
    "colab": {
      "name": "Essentials_Day2_Python for datascience.ipynb",
      "provenance": [],
      "collapsed_sections": []
    },
    "kernelspec": {
      "name": "python3",
      "display_name": "Python 3"
    },
    "language_info": {
      "name": "python"
    }
  },
  "cells": [
    {
      "cell_type": "markdown",
      "metadata": {
        "id": "Kp7j0LyHXt31"
      },
      "source": [
        "Welcome to Day 2 of Ëssentials program - \"Python for Data Science\"\n",
        "\n",
        "### Dictionary"
      ]
    },
    {
      "cell_type": "code",
      "metadata": {
        "id": "8KzinmcnWznx"
      },
      "source": [
        "person1 = {\n",
        "    'name': 'John Doe',\n",
        "    'sex': 'Male',\n",
        "    'age': 32,\n",
        "    'married': True\n",
        "}"
      ],
      "execution_count": null,
      "outputs": []
    },
    {
      "cell_type": "code",
      "metadata": {
        "id": "YTNwPcz8YDpq",
        "colab": {
          "base_uri": "https://localhost:8080/"
        },
        "outputId": "70447aff-b794-4f76-9534-c8742b0fb57d"
      },
      "source": [
        "person1"
      ],
      "execution_count": null,
      "outputs": [
        {
          "output_type": "execute_result",
          "data": {
            "text/plain": [
              "{'age': 32, 'married': True, 'name': 'John Doe', 'sex': 'Male'}"
            ]
          },
          "metadata": {},
          "execution_count": 13
        }
      ]
    },
    {
      "cell_type": "code",
      "metadata": {
        "colab": {
          "base_uri": "https://localhost:8080/"
        },
        "id": "q5fsYcwJtM96",
        "outputId": "ec2afe47-1274-45b9-950e-0c7d8b0faa83"
      },
      "source": [
        "type(person1)"
      ],
      "execution_count": null,
      "outputs": [
        {
          "output_type": "execute_result",
          "data": {
            "text/plain": [
              "dict"
            ]
          },
          "metadata": {},
          "execution_count": 15
        }
      ]
    },
    {
      "cell_type": "code",
      "metadata": {
        "id": "msiXhFsVYEe4",
        "colab": {
          "base_uri": "https://localhost:8080/"
        },
        "outputId": "7a24145a-7675-4046-dde1-e26738d7dd10"
      },
      "source": [
        "person2 = dict(name='Jane Judy', sex='Female', age=28, married=False)\n",
        "person2"
      ],
      "execution_count": null,
      "outputs": [
        {
          "output_type": "execute_result",
          "data": {
            "text/plain": [
              "{'age': 28, 'married': False, 'name': 'Jane Judy', 'sex': 'Female'}"
            ]
          },
          "metadata": {},
          "execution_count": 16
        }
      ]
    },
    {
      "cell_type": "code",
      "metadata": {
        "id": "o9FeIXhNYIb-",
        "colab": {
          "base_uri": "https://localhost:8080/"
        },
        "outputId": "da21f571-dcbf-4eaa-e8ed-0fd9aa5efa67"
      },
      "source": [
        "type(person1)"
      ],
      "execution_count": null,
      "outputs": [
        {
          "output_type": "execute_result",
          "data": {
            "text/plain": [
              "dict"
            ]
          },
          "metadata": {},
          "execution_count": 17
        }
      ]
    },
    {
      "cell_type": "code",
      "metadata": {
        "id": "k0Jxy9o3YNvr",
        "colab": {
          "base_uri": "https://localhost:8080/"
        },
        "outputId": "6d527631-04f9-4530-b3be-f549918f6b78"
      },
      "source": [
        "person1['age']"
      ],
      "execution_count": null,
      "outputs": [
        {
          "output_type": "execute_result",
          "data": {
            "text/plain": [
              "32"
            ]
          },
          "metadata": {},
          "execution_count": 19
        }
      ]
    },
    {
      "cell_type": "code",
      "metadata": {
        "id": "bD2PxibgYQKx"
      },
      "source": [
        "#person1['address']   #### If a key isn't present in the dictionary, then a KeyError is thrown."
      ],
      "execution_count": null,
      "outputs": []
    },
    {
      "cell_type": "markdown",
      "metadata": {
        "id": "dmcbh5N7Ye2E"
      },
      "source": [
        "You can also use the get method to access the value associated with a key."
      ]
    },
    {
      "cell_type": "code",
      "metadata": {
        "colab": {
          "base_uri": "https://localhost:8080/"
        },
        "id": "YwwQoAhQuLJx",
        "outputId": "9e424e3c-58f3-45ee-99de-74f76e70805b"
      },
      "source": [
        "person2"
      ],
      "execution_count": null,
      "outputs": [
        {
          "output_type": "execute_result",
          "data": {
            "text/plain": [
              "{'age': 28, 'married': False, 'name': 'Jane Judy', 'sex': 'Female'}"
            ]
          },
          "metadata": {},
          "execution_count": 23
        }
      ]
    },
    {
      "cell_type": "code",
      "metadata": {
        "id": "7RSn83h9YTQS",
        "colab": {
          "base_uri": "https://localhost:8080/",
          "height": 35
        },
        "outputId": "c170c686-68f6-42ac-d134-342a7f48fdc8"
      },
      "source": [
        "person2.get(\"name\")"
      ],
      "execution_count": null,
      "outputs": [
        {
          "output_type": "execute_result",
          "data": {
            "application/vnd.google.colaboratory.intrinsic+json": {
              "type": "string"
            },
            "text/plain": [
              "'Jane Judy'"
            ]
          },
          "metadata": {},
          "execution_count": 22
        }
      ]
    },
    {
      "cell_type": "code",
      "metadata": {
        "id": "pT0ABnRoYivI",
        "colab": {
          "base_uri": "https://localhost:8080/"
        },
        "outputId": "3b3c1d4c-0615-4c16-ccf7-822f062cbe5d"
      },
      "source": [
        "person1"
      ],
      "execution_count": null,
      "outputs": [
        {
          "output_type": "execute_result",
          "data": {
            "text/plain": [
              "{'age': 32, 'married': True, 'name': 'John Doe', 'sex': 'Male'}"
            ]
          },
          "metadata": {},
          "execution_count": 24
        }
      ]
    },
    {
      "cell_type": "code",
      "metadata": {
        "id": "KUMFnE6RYmjJ",
        "colab": {
          "base_uri": "https://localhost:8080/"
        },
        "outputId": "949908b5-09e5-40d8-b1b8-4161e8f8aa33"
      },
      "source": [
        "person1['address'] = '1, Penny Lane'\n",
        "person1"
      ],
      "execution_count": null,
      "outputs": [
        {
          "output_type": "execute_result",
          "data": {
            "text/plain": [
              "{'address': '1, Penny Lane',\n",
              " 'age': 32,\n",
              " 'married': True,\n",
              " 'name': 'John Doe',\n",
              " 'sex': 'Male'}"
            ]
          },
          "metadata": {},
          "execution_count": 26
        }
      ]
    },
    {
      "cell_type": "markdown",
      "metadata": {
        "id": "18viR6ZwYrVZ"
      },
      "source": [
        "To remove a key and the associated value from a dictionary, use the pop method."
      ]
    },
    {
      "cell_type": "code",
      "metadata": {
        "id": "1R3eKvTkYx8V",
        "colab": {
          "base_uri": "https://localhost:8080/"
        },
        "outputId": "790005ca-ede6-47e6-b1e9-e45cf6ba8638"
      },
      "source": [
        "person1"
      ],
      "execution_count": null,
      "outputs": [
        {
          "output_type": "execute_result",
          "data": {
            "text/plain": [
              "{'address': '1, Penny Lane',\n",
              " 'age': 32,\n",
              " 'married': True,\n",
              " 'name': 'John Doe',\n",
              " 'sex': 'Male'}"
            ]
          },
          "metadata": {},
          "execution_count": 27
        }
      ]
    },
    {
      "cell_type": "code",
      "metadata": {
        "id": "zV4WVyLTYohT",
        "colab": {
          "base_uri": "https://localhost:8080/",
          "height": 35
        },
        "outputId": "712bdbc4-e609-4bab-99b4-a5d4c1cde920"
      },
      "source": [
        "person1.pop('address')"
      ],
      "execution_count": null,
      "outputs": [
        {
          "output_type": "execute_result",
          "data": {
            "application/vnd.google.colaboratory.intrinsic+json": {
              "type": "string"
            },
            "text/plain": [
              "'1, Penny Lane'"
            ]
          },
          "metadata": {},
          "execution_count": 28
        }
      ]
    },
    {
      "cell_type": "code",
      "metadata": {
        "id": "iKu4mU4IYtmf",
        "colab": {
          "base_uri": "https://localhost:8080/"
        },
        "outputId": "9b7315bf-5a26-49ec-c0cd-75a37c7d9736"
      },
      "source": [
        "person1"
      ],
      "execution_count": null,
      "outputs": [
        {
          "output_type": "execute_result",
          "data": {
            "text/plain": [
              "{'age': 32, 'married': True, 'name': 'John Doe', 'sex': 'Male'}"
            ]
          },
          "metadata": {},
          "execution_count": 29
        }
      ]
    },
    {
      "cell_type": "code",
      "metadata": {
        "id": "RmXF1TinYvzI",
        "colab": {
          "base_uri": "https://localhost:8080/"
        },
        "outputId": "e0da8205-d4ea-430d-a4a0-7218de80f544"
      },
      "source": [
        "person1.keys()"
      ],
      "execution_count": null,
      "outputs": [
        {
          "output_type": "execute_result",
          "data": {
            "text/plain": [
              "dict_keys(['name', 'sex', 'age', 'married'])"
            ]
          },
          "metadata": {},
          "execution_count": 30
        }
      ]
    },
    {
      "cell_type": "code",
      "metadata": {
        "id": "FI3PLzrCBZWq",
        "colab": {
          "base_uri": "https://localhost:8080/"
        },
        "outputId": "20df6548-b5eb-4985-ea7b-6492e0b059fc"
      },
      "source": [
        "person1.values()"
      ],
      "execution_count": null,
      "outputs": [
        {
          "output_type": "execute_result",
          "data": {
            "text/plain": [
              "dict_values(['John Doe', 'Male', 32, True])"
            ]
          },
          "metadata": {},
          "execution_count": 31
        }
      ]
    },
    {
      "cell_type": "code",
      "metadata": {
        "id": "6twNXJFfBbjN",
        "colab": {
          "base_uri": "https://localhost:8080/"
        },
        "outputId": "8e4f7d06-129a-425e-8098-3a2767352bb8"
      },
      "source": [
        "person1.items()"
      ],
      "execution_count": null,
      "outputs": [
        {
          "output_type": "execute_result",
          "data": {
            "text/plain": [
              "dict_items([('name', 'John Doe'), ('sex', 'Male'), ('age', 32), ('married', True)])"
            ]
          },
          "metadata": {},
          "execution_count": 32
        }
      ]
    },
    {
      "cell_type": "markdown",
      "metadata": {
        "id": "Y7jURsLsBjGd"
      },
      "source": [
        "  ## Defining functions\n",
        "\n",
        "Builtin functions are great, but we can only get so far with them before we need to start defining our own functions. Below is a simple example:"
      ]
    },
    {
      "cell_type": "code",
      "metadata": {
        "id": "uUdAyDWQBp_t",
        "colab": {
          "base_uri": "https://localhost:8080/"
        },
        "outputId": "1c71fcf7-1ff0-45a7-9132-cf4b7c7c35fb"
      },
      "source": [
        "a=30\n",
        "b=20\n",
        "c=10\n",
        "\n",
        "print(\"diff1 = a-b =\", abs(a-b))\n",
        "print(\"diff2 = b-c =\", abs(b-c))\n",
        "print(\"diff3 = a-c =\", abs(a-c))\n",
        "\n",
        "print(\"least difference =\", min(abs(a-b), abs(b-c), abs(c-a)))"
      ],
      "execution_count": null,
      "outputs": [
        {
          "output_type": "stream",
          "name": "stdout",
          "text": [
            "diff1 = a-b = 10\n",
            "diff2 = b-c = 10\n",
            "diff3 = a-c = 20\n",
            "least difference = 10\n"
          ]
        }
      ]
    },
    {
      "cell_type": "code",
      "metadata": {
        "id": "u7wH_GJCBdnu"
      },
      "source": [
        "def least_difference(a, b, c):\n",
        "    diff1 = abs(a - b)\n",
        "    diff2 = abs(b - c)\n",
        "    diff3 = abs(a - c)\n",
        "    return min(diff1, diff2, diff3)"
      ],
      "execution_count": null,
      "outputs": []
    },
    {
      "cell_type": "markdown",
      "metadata": {
        "id": "HdCO08zNCdlw"
      },
      "source": [
        "This creates a function called least_difference, which takes three arguments, a, b, and c.\n",
        "\n",
        "Functions start with a header introduced by the def keyword. The indented block of code following the : is run when the function is called.\n",
        "\n",
        "return is another keyword uniquely associated with functions. When Python encounters a return statement, it exits the function immediately, and passes the value on the right hand side to the calling context."
      ]
    },
    {
      "cell_type": "code",
      "metadata": {
        "id": "ci1pYaIvCdYB",
        "colab": {
          "base_uri": "https://localhost:8080/"
        },
        "outputId": "94ff2ee0-5256-47b7-d5df-f9b3b22d73a8"
      },
      "source": [
        "print(\n",
        "    least_difference(1, 10, 100),\n",
        "    least_difference(1, 10, 10),\n",
        "    least_difference(5, 6, 7))"
      ],
      "execution_count": null,
      "outputs": [
        {
          "output_type": "stream",
          "name": "stdout",
          "text": [
            "9 0 1\n"
          ]
        }
      ]
    },
    {
      "cell_type": "code",
      "metadata": {
        "id": "NDg2ytkOBlu-",
        "colab": {
          "base_uri": "https://localhost:8080/"
        },
        "outputId": "b0fc1e73-b91e-4619-e3f6-3639058631d6"
      },
      "source": [
        "help(least_difference)"
      ],
      "execution_count": null,
      "outputs": [
        {
          "output_type": "stream",
          "name": "stdout",
          "text": [
            "Help on function least_difference in module __main__:\n",
            "\n",
            "least_difference(a, b, c)\n",
            "\n"
          ]
        }
      ]
    },
    {
      "cell_type": "markdown",
      "metadata": {
        "id": "odXlMZgBkoUo"
      },
      "source": [
        "## Docstrings\n",
        "\n",
        "The docstring is a triple-quoted string (which may span multiple lines) that comes immediately after the header of a function. When we call help() on a function, it shows the docstring."
      ]
    },
    {
      "cell_type": "code",
      "metadata": {
        "id": "1GFiAeiBklWl"
      },
      "source": [
        "def least_difference(a, b, c):\n",
        "    \"\"\"Return the smallest difference between any two numbers\n",
        "    among a, b and c.\n",
        "    \n",
        "    >>> least_difference(1, 5, -5)\n",
        "    4\n",
        "    \"\"\"\n",
        "    diff1 = abs(a - b)\n",
        "    diff2 = abs(b - c)\n",
        "    diff3 = abs(a - c)\n",
        "    return min(diff1, diff2, diff3)"
      ],
      "execution_count": null,
      "outputs": []
    },
    {
      "cell_type": "code",
      "metadata": {
        "colab": {
          "base_uri": "https://localhost:8080/"
        },
        "id": "LjaS0HD1ydDx",
        "outputId": "e833c25a-2b64-4312-f865-b750d8a7834b"
      },
      "source": [
        "help(least_difference)"
      ],
      "execution_count": null,
      "outputs": [
        {
          "output_type": "stream",
          "name": "stdout",
          "text": [
            "Help on function least_difference in module __main__:\n",
            "\n",
            "least_difference(a, b, c)\n",
            "    Return the smallest difference between any two numbers\n",
            "    among a, b and c.\n",
            "    \n",
            "    >>> least_difference(1, 5, -5)\n",
            "    4\n",
            "\n"
          ]
        }
      ]
    },
    {
      "cell_type": "code",
      "metadata": {
        "id": "kUhkF46DkrAr",
        "colab": {
          "base_uri": "https://localhost:8080/"
        },
        "outputId": "7cbce4f6-f0d8-4b6e-f7bb-4522e7b6f99c"
      },
      "source": [
        "## Functions that don't return\n",
        "## What would happen if we didn't include the return keyword in our function?\n",
        "def least_difference(a, b, c):\n",
        "    \"\"\"Return the smallest difference between any two numbers\n",
        "    among a, b and c.\n",
        "    \"\"\"\n",
        "    diff1 = abs(a - b)\n",
        "    diff2 = abs(b - c)\n",
        "    diff3 = abs(a - c)\n",
        "    min(diff1, diff2, diff3)\n",
        "    \n",
        "print(\n",
        "    least_difference(1, 10, 100),\n",
        "    least_difference(1, 10, 10),\n",
        "    least_difference(5, 6, 7),\n",
        ")"
      ],
      "execution_count": null,
      "outputs": [
        {
          "output_type": "stream",
          "name": "stdout",
          "text": [
            "None None None\n"
          ]
        }
      ]
    },
    {
      "cell_type": "markdown",
      "metadata": {
        "id": "18csGtojk1GI"
      },
      "source": [
        "Python allows us to define such functions. The result of calling them is the special value None. (This is similar to the concept of \"null\" in other languages.)\n",
        "\n",
        "Without a return statement, least_difference is completely pointless, but a function with side effects may do something useful without returning anything."
      ]
    },
    {
      "cell_type": "markdown",
      "metadata": {
        "id": "C5kIGh82k4gL"
      },
      "source": [
        "## Default arguments\n",
        "\n",
        " we can specify a value for sep to put some special string in between our printed arguments:"
      ]
    },
    {
      "cell_type": "code",
      "metadata": {
        "id": "iKwLnhjlkw1g",
        "colab": {
          "base_uri": "https://localhost:8080/"
        },
        "outputId": "01285c74-425a-42f8-f7d1-5eb2b9b6bdd6"
      },
      "source": [
        "print(1, 2, 3, sep=' < ')"
      ],
      "execution_count": null,
      "outputs": [
        {
          "output_type": "stream",
          "name": "stdout",
          "text": [
            "1 < 2 < 3\n"
          ]
        }
      ]
    },
    {
      "cell_type": "markdown",
      "metadata": {
        "id": "aR2tp0oxk9or"
      },
      "source": [
        "# If-else statements in Python"
      ]
    },
    {
      "cell_type": "code",
      "metadata": {
        "id": "ITlVdHcZk61g",
        "colab": {
          "base_uri": "https://localhost:8080/"
        },
        "outputId": "fb734747-79db-4c84-b390-90951198fbe8"
      },
      "source": [
        "a_number = 34\n",
        "\n",
        "if a_number % 2 == 0:\n",
        "    print('The given number {} is even.'.format(a_number))\n",
        "else:\n",
        "    print('The given number {} is odd.'.format(a_number))"
      ],
      "execution_count": null,
      "outputs": [
        {
          "output_type": "stream",
          "name": "stdout",
          "text": [
            "The given number 34 is even.\n"
          ]
        }
      ]
    },
    {
      "cell_type": "code",
      "metadata": {
        "id": "FI7dxs-flAWm"
      },
      "source": [
        "b = 33"
      ],
      "execution_count": null,
      "outputs": []
    },
    {
      "cell_type": "code",
      "metadata": {
        "id": "P2d0h3rblCJp",
        "colab": {
          "base_uri": "https://localhost:8080/"
        },
        "outputId": "28d98f13-1b63-4418-e8f3-0d643b03e734"
      },
      "source": [
        "if b % 2 == 0:\n",
        "    print('The given number {} is even.'.format(b))\n",
        "else:\n",
        "    print('The given number {} is odd.'.format(b))"
      ],
      "execution_count": null,
      "outputs": [
        {
          "output_type": "stream",
          "name": "stdout",
          "text": [
            "The given number 33 is odd.\n"
          ]
        }
      ]
    },
    {
      "cell_type": "markdown",
      "metadata": {
        "id": "VC5VR-n8lKkG"
      },
      "source": [
        "### The `elif` statement\n",
        "\n",
        "Python also provides an `elif` statement (short for \"else if\") to chain a series of conditional blocks. The conditions are evaluated one by one. For the first condition that evaluates to `True`, the block of statements below it is executed. The remaining conditions and statements are not evaluated. So, in an `if`, `elif`, `elif`... chain, at most one block of statements is executed, the one corresponding to the first condition that evaluates to `True`. "
      ]
    },
    {
      "cell_type": "code",
      "metadata": {
        "id": "2nbT6vDqlFSY"
      },
      "source": [
        "a_number = 15"
      ],
      "execution_count": null,
      "outputs": []
    },
    {
      "cell_type": "code",
      "metadata": {
        "id": "RAaPz1hMlRwP",
        "colab": {
          "base_uri": "https://localhost:8080/"
        },
        "outputId": "9bed0aa8-93e9-4a1d-b490-ff70842b23a0"
      },
      "source": [
        "if a_number % 2 == 0:\n",
        "    print('{} is divisible by 2'.format(a_number))\n",
        "elif a_number % 3 == 0:\n",
        "    print('{} is divisible by 3'.format(a_number))\n",
        "elif a_number % 5 == 0:\n",
        "    print('{} is divisible by 5'.format(a_number))\n",
        "elif a_number % 7 == 0:\n",
        "    print('{} is divisible by 7'.format(a_number))"
      ],
      "execution_count": null,
      "outputs": [
        {
          "output_type": "stream",
          "name": "stdout",
          "text": [
            "15 is divisible by 3\n"
          ]
        }
      ]
    },
    {
      "cell_type": "code",
      "metadata": {
        "colab": {
          "base_uri": "https://localhost:8080/"
        },
        "id": "waHPVlvp1zXm",
        "outputId": "48c00564-834f-468a-f2af-5cfe7b92845f"
      },
      "source": [
        "15%2"
      ],
      "execution_count": null,
      "outputs": [
        {
          "output_type": "execute_result",
          "data": {
            "text/plain": [
              "1"
            ]
          },
          "metadata": {},
          "execution_count": 55
        }
      ]
    },
    {
      "cell_type": "markdown",
      "metadata": {
        "id": "IyWLHJoJqTFv"
      },
      "source": [
        "**What is the NumPy library in Python?**\n",
        "\n",
        "NumPy stands for Numerical Python and is one of the most useful scientific libraries in Python programming. It provides support for large multidimensional array objects and various tools to work with them. Various other libraries like Pandas, Matplotlib, and Scikit-learn are built on top of this amazing library.\n",
        "\n",
        "Arrays are a collection of elements/values, that can have one or more dimensions. An array of one dimension is called a Vector while having two dimensions is called a Matrix.\n",
        "\n",
        "NumPy arrays are called ndarray or N-dimensional arrays and they store elements of the same type and size. It is known for its high-performance and provides efficient storage and data operations as arrays grow in size."
      ]
    },
    {
      "cell_type": "code",
      "metadata": {
        "id": "xchgHO4UlUP9"
      },
      "source": [
        "import numpy as np"
      ],
      "execution_count": null,
      "outputs": []
    },
    {
      "cell_type": "code",
      "metadata": {
        "id": "dksZLFD0qf5N"
      },
      "source": [
        "my_lst =[1,2,3,4,5]"
      ],
      "execution_count": null,
      "outputs": []
    },
    {
      "cell_type": "code",
      "metadata": {
        "colab": {
          "base_uri": "https://localhost:8080/"
        },
        "id": "ShHcuMud3fJb",
        "outputId": "e81ef2f8-2fdb-44a5-a848-14b827b4323c"
      },
      "source": [
        "type(my_lst)"
      ],
      "execution_count": null,
      "outputs": [
        {
          "output_type": "execute_result",
          "data": {
            "text/plain": [
              "list"
            ]
          },
          "metadata": {},
          "execution_count": 60
        }
      ]
    },
    {
      "cell_type": "code",
      "metadata": {
        "colab": {
          "base_uri": "https://localhost:8080/"
        },
        "id": "45pgzccP3ibQ",
        "outputId": "d3e6fc44-5c2d-4ab4-b5e0-4e301a305e40"
      },
      "source": [
        "arr = np.array(my_lst)\n",
        "arr"
      ],
      "execution_count": null,
      "outputs": [
        {
          "output_type": "execute_result",
          "data": {
            "text/plain": [
              "array([1, 2, 3, 4, 5])"
            ]
          },
          "metadata": {},
          "execution_count": 62
        }
      ]
    },
    {
      "cell_type": "code",
      "metadata": {
        "colab": {
          "base_uri": "https://localhost:8080/"
        },
        "id": "Uby8Rb7N3nSI",
        "outputId": "a3a736cf-2fdf-48f7-b205-4d5984e18f89"
      },
      "source": [
        "arr.shape    ### 1-D array"
      ],
      "execution_count": null,
      "outputs": [
        {
          "output_type": "execute_result",
          "data": {
            "text/plain": [
              "(5,)"
            ]
          },
          "metadata": {},
          "execution_count": 64
        }
      ]
    },
    {
      "cell_type": "code",
      "metadata": {
        "colab": {
          "base_uri": "https://localhost:8080/"
        },
        "id": "y9x7ugli4Egv",
        "outputId": "407c8c9e-d72d-4045-c161-308a0e6b2bcd"
      },
      "source": [
        "## multinested array\n",
        "\n",
        "lst1 = [1,2,3,4,5]\n",
        "lst2 = [2,3,4,5,6]\n",
        "lst3 = [4,5,6,7,8]\n",
        "\n",
        "arr1 = np.array([lst1, lst2, lst3])\n",
        "arr1"
      ],
      "execution_count": null,
      "outputs": [
        {
          "output_type": "execute_result",
          "data": {
            "text/plain": [
              "array([[1, 2, 3, 4, 5],\n",
              "       [2, 3, 4, 5, 6],\n",
              "       [4, 5, 6, 7, 8]])"
            ]
          },
          "metadata": {},
          "execution_count": 81
        }
      ]
    },
    {
      "cell_type": "code",
      "metadata": {
        "colab": {
          "base_uri": "https://localhost:8080/"
        },
        "id": "gGP5WPgo4fu6",
        "outputId": "a1cfac00-eb78-42a4-fc07-ee67960f2e0a"
      },
      "source": [
        "arr1.shape"
      ],
      "execution_count": null,
      "outputs": [
        {
          "output_type": "execute_result",
          "data": {
            "text/plain": [
              "(3, 5)"
            ]
          },
          "metadata": {},
          "execution_count": 66
        }
      ]
    },
    {
      "cell_type": "code",
      "metadata": {
        "colab": {
          "base_uri": "https://localhost:8080/"
        },
        "id": "MKThpTwB4oyo",
        "outputId": "396996fa-7c69-46d0-b1a2-8ca1772e99eb"
      },
      "source": [
        "arr1.reshape(5,3)"
      ],
      "execution_count": null,
      "outputs": [
        {
          "output_type": "execute_result",
          "data": {
            "text/plain": [
              "array([[1, 2, 3],\n",
              "       [4, 5, 2],\n",
              "       [3, 4, 5],\n",
              "       [6, 4, 5],\n",
              "       [6, 7, 8]])"
            ]
          },
          "metadata": {},
          "execution_count": 73
        }
      ]
    },
    {
      "cell_type": "markdown",
      "metadata": {
        "id": "4033orGx5VoT"
      },
      "source": [
        "## Indexing"
      ]
    },
    {
      "cell_type": "code",
      "metadata": {
        "colab": {
          "base_uri": "https://localhost:8080/"
        },
        "id": "ljh9dLVx42l9",
        "outputId": "4b769f44-98fc-4215-d36a-0b70f0bee1b5"
      },
      "source": [
        "arr = np.array([1,2,3,4,5,6,7,8])\n",
        "arr"
      ],
      "execution_count": null,
      "outputs": [
        {
          "output_type": "execute_result",
          "data": {
            "text/plain": [
              "array([1, 2, 3, 4, 5, 6, 7, 8])"
            ]
          },
          "metadata": {},
          "execution_count": 75
        }
      ]
    },
    {
      "cell_type": "code",
      "metadata": {
        "colab": {
          "base_uri": "https://localhost:8080/"
        },
        "id": "nA2Y-gBV50e3",
        "outputId": "abdf0d6f-5d73-47cd-bd6a-c36ed6af7283"
      },
      "source": [
        "arr[2:5]"
      ],
      "execution_count": null,
      "outputs": [
        {
          "output_type": "execute_result",
          "data": {
            "text/plain": [
              "array([3, 4, 5])"
            ]
          },
          "metadata": {},
          "execution_count": 80
        }
      ]
    },
    {
      "cell_type": "code",
      "metadata": {
        "colab": {
          "base_uri": "https://localhost:8080/"
        },
        "id": "lvzXvLFu5-uz",
        "outputId": "feab7719-d37c-45c2-bea0-2ee76296a47f"
      },
      "source": [
        "arr1"
      ],
      "execution_count": null,
      "outputs": [
        {
          "output_type": "execute_result",
          "data": {
            "text/plain": [
              "array([[1, 2, 3, 4, 5],\n",
              "       [2, 3, 4, 5, 6],\n",
              "       [4, 5, 6, 7, 8]])"
            ]
          },
          "metadata": {},
          "execution_count": 83
        }
      ]
    },
    {
      "cell_type": "code",
      "metadata": {
        "colab": {
          "base_uri": "https://localhost:8080/"
        },
        "id": "zt_sqIeA6aej",
        "outputId": "abf4de69-e5cb-4ecc-d1f6-aae636e42866"
      },
      "source": [
        "arr1[0:2,0:2]"
      ],
      "execution_count": null,
      "outputs": [
        {
          "output_type": "execute_result",
          "data": {
            "text/plain": [
              "array([[1, 2],\n",
              "       [2, 3]])"
            ]
          },
          "metadata": {},
          "execution_count": 85
        }
      ]
    },
    {
      "cell_type": "code",
      "metadata": {
        "colab": {
          "base_uri": "https://localhost:8080/"
        },
        "id": "O8sw2pua6ljX",
        "outputId": "7d1d8559-571a-46e0-c697-74124fa694d7"
      },
      "source": [
        "arr1[1:,3:]"
      ],
      "execution_count": null,
      "outputs": [
        {
          "output_type": "execute_result",
          "data": {
            "text/plain": [
              "array([[5, 6],\n",
              "       [7, 8]])"
            ]
          },
          "metadata": {},
          "execution_count": 86
        }
      ]
    },
    {
      "cell_type": "markdown",
      "metadata": {
        "id": "u-sQZRPM7STD"
      },
      "source": [
        "## Assignment:\n",
        "From the above array, retrieve the values([[3,4],[5,6]]) using indexing"
      ]
    },
    {
      "cell_type": "code",
      "metadata": {
        "colab": {
          "base_uri": "https://localhost:8080/"
        },
        "id": "NVgtLZyy693b",
        "outputId": "25098157-0022-47c3-f744-8b024c5d7c91"
      },
      "source": [
        "arr = np.arange(0,10)\n",
        "arr"
      ],
      "execution_count": null,
      "outputs": [
        {
          "output_type": "execute_result",
          "data": {
            "text/plain": [
              "array([0, 1, 2, 3, 4, 5, 6, 7, 8, 9])"
            ]
          },
          "metadata": {},
          "execution_count": 96
        }
      ]
    },
    {
      "cell_type": "code",
      "metadata": {
        "colab": {
          "base_uri": "https://localhost:8080/"
        },
        "id": "Aq9keRGP7sMD",
        "outputId": "08e154b3-fb95-4a60-a4e2-c14ec2a13d2c"
      },
      "source": [
        "arr = np.arange(0,10,step=3)\n",
        "arr"
      ],
      "execution_count": null,
      "outputs": [
        {
          "output_type": "execute_result",
          "data": {
            "text/plain": [
              "array([0, 3, 6, 9])"
            ]
          },
          "metadata": {},
          "execution_count": 93
        }
      ]
    },
    {
      "cell_type": "code",
      "metadata": {
        "colab": {
          "base_uri": "https://localhost:8080/"
        },
        "id": "-K1544Rj8BpV",
        "outputId": "8c9f77a9-d1af-442c-ea35-b6c212dd04ef"
      },
      "source": [
        "np.linspace(1,10,50)"
      ],
      "execution_count": null,
      "outputs": [
        {
          "output_type": "execute_result",
          "data": {
            "text/plain": [
              "array([ 1.        ,  1.18367347,  1.36734694,  1.55102041,  1.73469388,\n",
              "        1.91836735,  2.10204082,  2.28571429,  2.46938776,  2.65306122,\n",
              "        2.83673469,  3.02040816,  3.20408163,  3.3877551 ,  3.57142857,\n",
              "        3.75510204,  3.93877551,  4.12244898,  4.30612245,  4.48979592,\n",
              "        4.67346939,  4.85714286,  5.04081633,  5.2244898 ,  5.40816327,\n",
              "        5.59183673,  5.7755102 ,  5.95918367,  6.14285714,  6.32653061,\n",
              "        6.51020408,  6.69387755,  6.87755102,  7.06122449,  7.24489796,\n",
              "        7.42857143,  7.6122449 ,  7.79591837,  7.97959184,  8.16326531,\n",
              "        8.34693878,  8.53061224,  8.71428571,  8.89795918,  9.08163265,\n",
              "        9.26530612,  9.44897959,  9.63265306,  9.81632653, 10.        ])"
            ]
          },
          "metadata": {},
          "execution_count": 94
        }
      ]
    },
    {
      "cell_type": "code",
      "metadata": {
        "colab": {
          "base_uri": "https://localhost:8080/"
        },
        "id": "B-A78ymw8YeB",
        "outputId": "842def8f-3d26-4da9-e747-367a73747d5f"
      },
      "source": [
        "arr"
      ],
      "execution_count": null,
      "outputs": [
        {
          "output_type": "execute_result",
          "data": {
            "text/plain": [
              "array([0, 1, 2, 3, 4, 5, 6, 7, 8, 9])"
            ]
          },
          "metadata": {},
          "execution_count": 97
        }
      ]
    },
    {
      "cell_type": "code",
      "metadata": {
        "colab": {
          "base_uri": "https://localhost:8080/"
        },
        "id": "_EEnYNGv8p2L",
        "outputId": "867f1178-6b38-4b0e-df61-bb04ea2c200e"
      },
      "source": [
        "arr[3:] = 100\n",
        "arr"
      ],
      "execution_count": null,
      "outputs": [
        {
          "output_type": "execute_result",
          "data": {
            "text/plain": [
              "array([  0,   1,   2, 100, 100, 100, 100, 100, 100, 100])"
            ]
          },
          "metadata": {},
          "execution_count": 98
        }
      ]
    },
    {
      "cell_type": "code",
      "metadata": {
        "colab": {
          "base_uri": "https://localhost:8080/"
        },
        "id": "qObrl8XZ836U",
        "outputId": "ce2bfad1-1605-402f-bf7f-cefec1f6b7bc"
      },
      "source": [
        "np.ones(5)"
      ],
      "execution_count": null,
      "outputs": [
        {
          "output_type": "execute_result",
          "data": {
            "text/plain": [
              "array([1., 1., 1., 1., 1.])"
            ]
          },
          "metadata": {},
          "execution_count": 99
        }
      ]
    },
    {
      "cell_type": "code",
      "metadata": {
        "colab": {
          "base_uri": "https://localhost:8080/"
        },
        "id": "4aCbYord9SzH",
        "outputId": "f12ba8dd-783f-43e7-ea00-5ffdd417b833"
      },
      "source": [
        "np.ones(5, dtype=int)"
      ],
      "execution_count": null,
      "outputs": [
        {
          "output_type": "execute_result",
          "data": {
            "text/plain": [
              "array([1, 1, 1, 1, 1])"
            ]
          },
          "metadata": {},
          "execution_count": 101
        }
      ]
    },
    {
      "cell_type": "code",
      "metadata": {
        "colab": {
          "base_uri": "https://localhost:8080/"
        },
        "id": "-IoZ7shX9Jl8",
        "outputId": "a5b503b0-f9df-43e5-c2e0-539d4bfb3f3b"
      },
      "source": [
        "np.zeros(4)"
      ],
      "execution_count": null,
      "outputs": [
        {
          "output_type": "execute_result",
          "data": {
            "text/plain": [
              "array([0., 0., 0., 0.])"
            ]
          },
          "metadata": {},
          "execution_count": 100
        }
      ]
    },
    {
      "cell_type": "code",
      "metadata": {
        "colab": {
          "base_uri": "https://localhost:8080/"
        },
        "id": "CtkHgH6m9Pf0",
        "outputId": "f55228c7-f77e-4dcd-b118-6db3676b674a"
      },
      "source": [
        "np.random.rand(3,3)"
      ],
      "execution_count": null,
      "outputs": [
        {
          "output_type": "execute_result",
          "data": {
            "text/plain": [
              "array([[0.41964016, 0.44318688, 0.00475489],\n",
              "       [0.2562027 , 0.61358545, 0.49335494],\n",
              "       [0.21669125, 0.8523157 , 0.18291071]])"
            ]
          },
          "metadata": {},
          "execution_count": 103
        }
      ]
    },
    {
      "cell_type": "code",
      "metadata": {
        "colab": {
          "base_uri": "https://localhost:8080/"
        },
        "id": "CfHgdXb6-IBX",
        "outputId": "d98e5276-99d4-4a78-d15a-512ead90a283"
      },
      "source": [
        "arr_x = np.random.randn(4,4)\n",
        "arr_x"
      ],
      "execution_count": null,
      "outputs": [
        {
          "output_type": "execute_result",
          "data": {
            "text/plain": [
              "array([[ 1.20758826,  0.08063071,  0.38830336,  2.07332744],\n",
              "       [-0.52788197,  0.68046755,  0.34699349, -0.77417995],\n",
              "       [ 1.51383548,  0.54676636, -0.51288866, -0.35570006],\n",
              "       [-0.31663816,  1.83634877,  0.79401456, -2.90742482]])"
            ]
          },
          "metadata": {},
          "execution_count": 108
        }
      ]
    },
    {
      "cell_type": "code",
      "metadata": {
        "id": "Ul89e3jY-ZHy"
      },
      "source": [
        "import pandas as pd\n",
        "import seaborn as sns"
      ],
      "execution_count": null,
      "outputs": []
    },
    {
      "cell_type": "code",
      "metadata": {
        "colab": {
          "base_uri": "https://localhost:8080/",
          "height": 337
        },
        "id": "4yDzsC6A-wsS",
        "outputId": "dd8ab392-639a-4989-f675-5f83493fec30"
      },
      "source": [
        "sns.distplot(pd.DataFrame(arr_x.reshape(16,1)))"
      ],
      "execution_count": null,
      "outputs": [
        {
          "output_type": "stream",
          "name": "stderr",
          "text": [
            "/usr/local/lib/python3.7/dist-packages/seaborn/distributions.py:2557: FutureWarning: `distplot` is a deprecated function and will be removed in a future version. Please adapt your code to use either `displot` (a figure-level function with similar flexibility) or `histplot` (an axes-level function for histograms).\n",
            "  warnings.warn(msg, FutureWarning)\n"
          ]
        },
        {
          "output_type": "execute_result",
          "data": {
            "text/plain": [
              "<matplotlib.axes._subplots.AxesSubplot at 0x7ff55318ec50>"
            ]
          },
          "metadata": {},
          "execution_count": 110
        },
        {
          "output_type": "display_data",
          "data": {
            "image/png": "[encoded data removed]",
            "text/plain": [
              "<Figure size 432x288 with 1 Axes>"
            ]
          },
          "metadata": {
            "needs_background": "light"
          }
        }
      ]
    },
    {
      "cell_type": "code",
      "metadata": {
        "id": "00g9ZalM-9BJ"
      },
      "source": [
        ""
      ],
      "execution_count": null,
      "outputs": []
    }
  ]
}
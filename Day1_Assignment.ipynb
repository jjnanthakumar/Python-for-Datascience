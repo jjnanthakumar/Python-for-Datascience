{
 "cells": [
  {
   "cell_type": "code",
   "execution_count": null,
   "source": [
    "#Write a program which accept principle, rate and time from user and print the simple interest. The formula to calculate simple interest is: simple interest = principle x rate x time / 100 Solution\r\n",
    "principle, rate, time = float(input()), int(input()), int(input())\r\n",
    "print((principle*rate*time)/100)\r\n"
   ],
   "outputs": [],
   "metadata": {}
  }
 ],
 "metadata": {
  "orig_nbformat": 4,
  "language_info": {
   "name": "python"
  }
 },
 "nbformat": 4,
 "nbformat_minor": 2
}